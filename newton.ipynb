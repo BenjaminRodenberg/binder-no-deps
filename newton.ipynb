{
 "cells": [
  {
   "cell_type": "markdown",
   "id": "e7e4a49d-5fc1-481b-983a-45f143b351a3",
   "metadata": {
    "tags": []
   },
   "source": [
    "# Newton's method"
   ]
  },
  {
   "cell_type": "markdown",
   "id": "6f088afa-c4ca-4eb0-9ddf-909ab8d9514c",
   "metadata": {},
   "source": [
    "From [wikipedia article on Newtons's method](https://en.wikipedia.org/wiki/Newton's_method):\n",
    "\n",
    "> In numerical analysis, Newton's method, also known as the Newton–Raphson method, named after Isaac Newton and Joseph Raphson, is a root-finding algorithm which produces successively better approximations to the roots (or zeroes) of a real-valued function. The most basic version starts with a single-variable function $f$ defined for a real variable $x$, the function's derivative $f'$, and an initial guess $x_0$ for a root of $f$. If the function satisfies sufficient assumptions and the initial guess is close, then\n",
    ">\n",
    "> $$x_{1}=x_{0}-{\\frac {f(x_{0})}{f'(x_{0})}}$$\n",
    ">\n",
    "> is a better approximation of the root than $x_0$.\n",
    "\n",
    "Let's try to implement this."
   ]
  },
  {
   "cell_type": "markdown",
   "id": "c0e7eb9c-e65f-4259-bf38-f5e87ae8b845",
   "metadata": {},
   "source": [
    "First we define the function $f = x^2-x$:"
   ]
  },
  {
   "cell_type": "code",
   "execution_count": null,
   "id": "07291132-cd89-4aac-ab63-d8cc9029962c",
   "metadata": {},
   "outputs": [],
   "source": [
    "def f(x):\n",
    "    return x**2 - x"
   ]
  },
  {
   "cell_type": "markdown",
   "id": "3232d275-8f4f-4481-8aea-174591ac05f9",
   "metadata": {},
   "source": [
    "Then the derivative of $f$ as $f' = 2x-1$:"
   ]
  },
  {
   "cell_type": "code",
   "execution_count": null,
   "id": "bf9302d3-74dd-4555-9f50-170a2f4ec1c4",
   "metadata": {},
   "outputs": [],
   "source": [
    "def df(x):\n",
    "    return 2*x - 1"
   ]
  },
  {
   "cell_type": "markdown",
   "id": "a0e9a649-529e-4eff-8fff-4cf2319157d8",
   "metadata": {},
   "source": [
    "A single Newton step is defined as above:"
   ]
  },
  {
   "cell_type": "code",
   "execution_count": null,
   "id": "5e4037ff-bdea-423a-8097-81df42bdd99e",
   "metadata": {},
   "outputs": [],
   "source": [
    "def newton_step(f, df, x0):\n",
    "    return x0 - f(x0) / df(x0)"
   ]
  },
  {
   "cell_type": "markdown",
   "id": "f8774782-9b22-4e62-b2ad-03af18675e02",
   "metadata": {},
   "source": [
    "We use an initial guess $x_0 = 2$ and create a counter $k$ to store the number of iterations used to obtain $x_k$:"
   ]
  },
  {
   "cell_type": "code",
   "execution_count": null,
   "id": "29449af8-71da-4bbc-8536-2841c6430162",
   "metadata": {},
   "outputs": [],
   "source": [
    "x = 2\n",
    "k = 0"
   ]
  },
  {
   "cell_type": "markdown",
   "id": "a79b1be3-9358-4e5d-ac2f-2da264b49139",
   "metadata": {},
   "source": [
    "The cell below allows us to perform a single Newton step. The error is measured as $f(x_k)$, because this shows us how far we are away from the root, where $f(x^*) = 0$."
   ]
  },
  {
   "cell_type": "code",
   "execution_count": null,
   "id": "04127fa7-b577-41e0-a43f-9e0a78ef0a5a",
   "metadata": {},
   "outputs": [],
   "source": [
    "x = newton_step(f,df,x)\n",
    "k += 1\n",
    "print(f\"After {k} iterations we get x={x}\")\n",
    "print(f\"The error of is {f(x)}\")"
   ]
  },
  {
   "cell_type": "markdown",
   "id": "373dbea9-d244-4f36-98e9-587d8677c661",
   "metadata": {},
   "source": [
    "We can just repeat this to perform additional steps:"
   ]
  },
  {
   "cell_type": "code",
   "execution_count": null,
   "id": "de300e42-302a-4d95-962a-7bd93ff4d6e5",
   "metadata": {},
   "outputs": [],
   "source": [
    "for _ in range(5):\n",
    "    x = newton_step(f,df,x)\n",
    "    k += 1\n",
    "    print(f\"After {k} iterations we get x={x}\")\n",
    "    print(f\"The error of is {f(x)}\")"
   ]
  }
 ],
 "metadata": {
  "kernelspec": {
   "display_name": "Python 3 (ipykernel)",
   "language": "python",
   "name": "python3"
  },
  "language_info": {
   "codemirror_mode": {
    "name": "ipython",
    "version": 3
   },
   "file_extension": ".py",
   "mimetype": "text/x-python",
   "name": "python",
   "nbconvert_exporter": "python",
   "pygments_lexer": "ipython3",
   "version": "3.8.10"
  }
 },
 "nbformat": 4,
 "nbformat_minor": 5
}
